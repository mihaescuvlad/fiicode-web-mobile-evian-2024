{
 "cells": [
  {
   "cell_type": "markdown",
   "metadata": {},
   "source": [
    "#### Libraries/Imports"
   ]
  },
  {
   "cell_type": "code",
   "execution_count": 52,
   "metadata": {},
   "outputs": [],
   "source": [
    "import requests\n",
    "\n",
    "from bson import ObjectId\n",
    "from pydantic.json import ENCODERS_BY_TYPE\n",
    "\n",
    "from pydantic import BaseModel, Field\n",
    "from typing import List, Optional\n",
    "\n",
    "from sklearn.metrics.pairwise import cosine_similarity\n",
    "from sklearn.preprocessing import MinMaxScaler"
   ]
  },
  {
   "cell_type": "markdown",
   "metadata": {},
   "source": [
    "##### Helper Models"
   ]
  },
  {
   "cell_type": "code",
   "execution_count": 53,
   "metadata": {},
   "outputs": [],
   "source": [
    "class PydanticObjectId(ObjectId):\n",
    "    \"\"\"\n",
    "    Object Id field. Compatible with Pydantic.\n",
    "    \"\"\"\n",
    "\n",
    "    @classmethod\n",
    "    def __get_validators__(cls):\n",
    "        yield cls.validate\n",
    "\n",
    "    @classmethod\n",
    "    def validate(cls, v):\n",
    "        return PydanticObjectId(v)\n",
    "\n",
    "    @classmethod\n",
    "    def __modify_schema__(cls, field_schema: dict):\n",
    "        field_schema.update(\n",
    "            type=\"string\",\n",
    "        )\n",
    "\n",
    "\n",
    "ENCODERS_BY_TYPE[PydanticObjectId] = str"
   ]
  },
  {
   "cell_type": "code",
   "execution_count": 54,
   "metadata": {},
   "outputs": [],
   "source": [
    "class Product(BaseModel):\n",
    "    id: Optional[PydanticObjectId] = Field(None, alias=\"_id\")\n",
    "    name: str\n",
    "    brand: str\n",
    "    allergens: List[str]\n",
    "    ingredients: List[str]\n",
    "    calories: float\n",
    "    fat: float\n",
    "    carbohydrates: float\n",
    "    protein: float\n",
    "    rating: int"
   ]
  },
  {
   "cell_type": "markdown",
   "metadata": {},
   "source": [
    "##### API URL"
   ]
  },
  {
   "cell_type": "code",
   "execution_count": 83,
   "metadata": {},
   "outputs": [],
   "source": [
    "url = 'http://localhost:5000/'"
   ]
  },
  {
   "cell_type": "code",
   "execution_count": 84,
   "metadata": {},
   "outputs": [
    {
     "name": "stdout",
     "output_type": "stream",
     "text": [
      "Error occurred: HTTPConnectionPool(host='localhost', port=5000): Max retries exceeded with url: / (Caused by NewConnectionError('<urllib3.connection.HTTPConnection object at 0x7f7f93686110>: Failed to establish a new connection: [Errno 111] Connection refused'))\n"
     ]
    }
   ],
   "source": [
    "try:\n",
    "    response = requests.get(url)\n",
    "\n",
    "    if response.status_code == 200:\n",
    "        print(\"Response content:\")\n",
    "        response_content = response.json()\n",
    "        print(response_content)\n",
    "    else:\n",
    "        print(f\"Failed to retrieve data. Status code: {response.status_code}\")\n",
    "\n",
    "except requests.exceptions.RequestException as e:\n",
    "    print(f\"Error occurred: {e}\")"
   ]
  },
  {
   "cell_type": "code",
   "execution_count": 71,
   "metadata": {},
   "outputs": [
    {
     "name": "stdout",
     "output_type": "stream",
     "text": [
      "User basket:\n",
      "Available products:\n",
      "id=ObjectId('65d25943c2ef35ebebb785e4') name='Paine boiereasca neagra' brand='Velrom' allergens=['en:gluten', 'en:milk'] ingredients=[] calories=250.0 fat=2.4 carbohydrates=39.0 protein=9.6 rating=4\n",
      "id=ObjectId('65e0ac46d83183b40dcf2994') name='Paine Alba' brand='Pangroup' allergens=[] ingredients=[] calories=245.0 fat=1.0 carbohydrates=52.0 protein=7.5 rating=0\n",
      "id=ObjectId('65e0ad3bd83183b40dcf2995') name='Pate Porc Picant' brand='Ardealul' allergens=[] ingredients=[] calories=196.0 fat=16.0 carbohydrates=4.0 protein=9.0 rating=2\n",
      "id=ObjectId('65e0b1aad8318366c3f58bbf') name='Smart Bucket' brand='KFC' allergens=[] ingredients=[] calories=197.0 fat=9.13 carbohydrates=19.02 protein=9.09 rating=0\n",
      "id=ObjectId('65e0fe2dd83183aa03972937') name='Viva Chips Chicken' brand='European Food International' allergens=[] ingredients=[] calories=549.0 fat=33.0 carbohydrates=57.0 protein=5.0 rating=1\n",
      "id=ObjectId('65e1e0a3d831834c3c639198') name='Product With Allergens' brand='Testing Department' allergens=['en:milk', 'en:gluten', 'en:sesame-seeds'] ingredients=[] calories=1.0 fat=1.0 carbohydrates=1.0 protein=1.0 rating=0\n",
      "id=ObjectId('65e1e0e1d831834c3c63919a') name='Product Without Allergens' brand='Testing Department' allergens=[] ingredients=[] calories=1.0 fat=1.0 carbohydrates=1.0 protein=1.0 rating=0\n",
      "id=ObjectId('65e1e85ad831834c3c63919b') name='Pastile de codat' brand='PAITON BLYAD' allergens=['en:milk', 'en:sesame-seeds', 'en:crustaceans', 'en:fish', 'en:gluten'] ingredients=[] calories=1.0 fat=0.0 carbohydrates=0.0 protein=0.0 rating=1\n",
      "id=ObjectId('65e1ea9cd8318381432fb48c') name='Nutella' brand='Ferrero' allergens=['en:milk', 'en:nuts'] ingredients=[] calories=546.0 fat=31.6 carbohydrates=57.6 protein=6.0 rating=0\n",
      "id=ObjectId('65e2fdbfe64d1e9f9f358f9c') name='Paine' brand='Brutaru' allergens=['en:milk', 'en:eggs'] ingredients=[] calories=200.0 fat=53.0 carbohydrates=75.0 protein=30.0 rating=0\n",
      "id=ObjectId('65e3a31cd8318319f7945817') name='Carne de cal' brand=\"Horsin'\" allergens=[''] ingredients=[] calories=0.0 fat=0.0 carbohydrates=0.0 protein=1000.99 rating=0\n",
      "id=ObjectId('65e3a335d8318319f7945818') name='Carne de cal' brand=\"Horsin'\" allergens=['en:milk', 'en:crustaceans', 'en:peanuts'] ingredients=[] calories=0.0 fat=0.0 carbohydrates=0.0 protein=1000.99 rating=0\n",
      "id=ObjectId('65e484b6d83183b85fab6b9e') name='NeutralHealthRating' brand='BrandName' allergens=[''] ingredients=[] calories=120.0 fat=10.0 carbohydrates=50.0 protein=25.0 rating=0\n",
      "id=ObjectId('65e488c5d83183b85fab6ba7') name='etst' brand='est' allergens=[''] ingredients=[] calories=1.0 fat=1.0 carbohydrates=1.0 protein=1.0 rating=0\n",
      "id=ObjectId('65e4ecccf69a9c5c9000edf1') name='Coca Cola Zero' brand='Coca Cola' allergens=['en:nuts', 'en:peanuts', 'en:sulphur-dioxide-and-sulphites', 'en:milk'] ingredients=[] calories=1.0 fat=1.0 carbohydrates=1.0 protein=21.0 rating=0\n",
      "id=ObjectId('65ea06e7e64d1e47f4572989') name='A' brand='a' allergens=['en:milk'] ingredients=[] calories=300.0 fat=100.0 carbohydrates=100.0 protein=100.0 rating=0\n",
      "id=ObjectId('65ea411ff69a9c0e5cb45921') name='Merci Finest Selection' brand='Storck' allergens=['en:soybeans', 'en:eggs', 'en:nuts', 'en:peanuts', 'en:milk', 'en:peach'] ingredients=[] calories=563.0 fat=36.1 carbohydrates=49.9 protein=7.82 rating=1\n",
      "id=ObjectId('65eb4109e64d1e4a9de47410') name='Lubenita' brand='Lebeinta SRL.' allergens=[] ingredients=[] calories=111.0 fat=111.0 carbohydrates=111.0 protein=111.0 rating=0\n",
      "id=ObjectId('65eb6a15e64d1eabb53c4c93') name='PAITONN BLYAD' brand='gay' allergens=[] ingredients=[] calories=10.0 fat=10.0 carbohydrates=10.0 protein=10.0 rating=0\n",
      "id=ObjectId('65eb6ab8e64d1eabb53c4c95') name='d' brand='d' allergens=[] ingredients=[] calories=6.0 fat=6.0 carbohydrates=6.0 protein=6.0 rating=0\n",
      "id=ObjectId('65ec7b41f69a9c27bc69f104') name='Borsec' brand='Romaqua Group' allergens=[] ingredients=[] calories=0.0 fat=0.0 carbohydrates=0.0 protein=0.0 rating=0\n",
      "id=ObjectId('65eccc7cf69a9c77e4375d24') name='Confetteria Raffaello' brand='Ferrero' allergens=['en:gluten', 'en:soybeans', 'en:nuts', 'en:milk'] ingredients=['en:desiccated-coconut', 'en:fruit', 'en:coconut', 'en:vegetable-fat', 'en:oil-and-fat', 'en:vegetable-oil-and-fat', 'en:sugar', 'en:added-sugar', 'en:disaccharide', 'en:almond', 'en:nut', 'en:tree-nut', 'en:skimmed-milk-powder', 'en:dairy', 'en:milk-powder', 'en:whey-powder', 'en:whey', 'en:wheat-flour', 'en:cereal', 'en:flour', 'en:wheat', 'en:cereal-flour', 'en:tapioca', 'en:starch', 'en:flavouring', 'en:emulsifier', 'en:raising-agent', 'en:salt', 'en:palm', 'en:palm-oil-and-fat', 'en:palm-oil', 'en:shea-butter', 'en:e322', 'en:e500ii', 'en:e500'] calories=627.0 fat=48.3 carbohydrates=38.6 protein=7.4 rating=0\n",
      "id=ObjectId('65ecccd3f69a9c77e4375d25') name='Milka Lait Alpin' brand='Milka,Mondelez' allergens=['en:soybeans', 'en:nuts', 'en:milk'] ingredients=['en:sugar', 'en:added-sugar', 'en:disaccharide', 'en:cocoa-butter', 'en:plant', 'en:cocoa', 'en:cocoa-paste', 'en:skimmed-milk-powder', 'en:dairy', 'en:milk-powder', 'en:whey-powder', 'en:whey', 'en:butterfat', 'en:oil-and-fat', 'en:fat', 'en:milkfat', 'en:emulsifier', 'en:hazelnut-paste', 'en:nut', 'en:tree-nut', 'en:hazelnut', 'en:flavouring', 'en:soya-lecithin', 'en:e322', 'en:e322i'] calories=539.0 fat=31.0 carbohydrates=57.0 protein=6.5 rating=0\n",
      "id=ObjectId('65ecccebf69a9c77e4375d26') name='Granini ananas' brand='Granini' allergens=[] ingredients=['en:pineapple-juice-from-concentrate', 'en:fruit', 'en:juice', 'en:fruit-juice', 'en:pineapple', 'en:pineapple-juice', 'en:water', 'en:sugar', 'en:added-sugar', 'en:disaccharide', 'en:acid', 'en:stabiliser', 'en:antioxidant', 'en:e330', 'en:e440a', 'en:e300'] calories=45.0 fat=0.2 carbohydrates=11.0 protein=0.5 rating=0\n",
      "id=ObjectId('65ecce69f69a9c77e4375d27') name='Takis Hot' brand='Takis' allergens=[] ingredients=['en:maiz-harina', 'en:fat', 'en:oil-and-fat', 'en:seasoning-prepared-taste-of-chile-and-lima', 'en:palma', 'en:potato-maltodextrin', 'en:maltodextrin', 'en:salt', 'en:sugar', 'en:added-sugar', 'en:disaccharide', 'en:acidity-correctors', 'en:flavour-enhancer', 'en:yeast-extract', 'en:yeast', 'en:onion', 'en:vegetable', 'en:root-vegetable', 'en:onion-family-vegetable', 'en:flavouring', 'en:colour', 'en:colza-vegetable-oil', 'en:acid', 'en:e334', 'en:l', 'en:e330', 'en:e500', 'en:e262', 'en:monodium-glutamate', 'en:5-ribonucleotids-didium', 'en:pimenton-extract'] calories=516.0 fat=30.0 carbohydrates=53.0 protein=5.5 rating=0\n",
      "id=ObjectId('65ecce83f69a9c77e4375d28') name='Sprite Summer' brand='Sprite' allergens=[] ingredients=['en:water', 'en:glucose-fructose-syrup', 'en:added-sugar', 'en:monosaccharide', 'en:fructose', 'en:glucose', 'en:e290', 'en:e330', 'en:e950', 'en:e951', 'en:e959', 'en:e211', 'en:e331', 'en:flavouring'] calories=9.0 fat=0.0 carbohydrates=1.9 protein=0.0 rating=0\n",
      "id=ObjectId('65ecce9ff69a9c77e4375d29') name='Pelotazos' brand='Cheetos' allergens=['en:milk'] ingredients=['en:grits-is', 'en:corn-oil', 'en:oil-and-fat', 'en:vegetable-oil-and-fat', 'en:vegetable-oil', 'en:aroma-of-cheese', 'en:sugar', 'en:added-sugar', 'en:disaccharide', 'en:salt', 'en:colour', 'en:lactose', 'en:flavouring', 'en:whey-powder', 'en:dairy', 'en:whey', 'en:flavour-enhancer', 'en:smoke-flavouring', 'en:vegetable', 'en:paprika', 'en:condiment', 'en:spice', 'en:annato', 'en:e621', 'en:inosinato', 'en:guanylate-disodicos'] calories=503.0 fat=27.0 carbohydrates=59.2 protein=5.1 rating=0\n",
      "id=ObjectId('65ecceaff69a9c77e4375d2a') name='Pepsi Max' brand='PepsiCo, Pepsi zero' allergens=[] ingredients=['en:carbonated-water', 'en:water', 'en:colour', 'en:sweetener', 'en:acid', 'en:acidity-regulator', 'en:flavouring', 'en:e150d', 'en:e951', 'en:e950', 'en:e338', 'en:e330', 'en:sodium-citrate', 'en:minerals', 'en:sodium', 'en:plant-extracts', 'en:plant', 'en:caffeine'] calories=0.4 fat=0.0 carbohydrates=0.0 protein=0.0 rating=0\n"
     ]
    }
   ],
   "source": [
    "all_products = [Product(**product_dict) for product_dict in response_content.get(\"products\", [])]\n",
    "\n",
    "# user_basket = all_products[:3] + all_products[-2:]\n",
    "#user_basket = all_products[-4:]\n",
    "user_basket = []\n",
    "#user_allergens = ['en:milk']\n",
    "user_allergens = []\n",
    "\n",
    "print(\"User basket:\")\n",
    "for product in user_basket:\n",
    "    print(product)\n",
    "\n",
    "print(\"Available products:\")\n",
    "for product in available_products:\n",
    "    print(product)"
   ]
  },
  {
   "cell_type": "markdown",
   "metadata": {},
   "source": [
    "##### Compute Product Similarity"
   ]
  },
  {
   "cell_type": "code",
   "execution_count": 73,
   "metadata": {},
   "outputs": [],
   "source": [
    "def compute_similarity(product1, product2, user_allergens = []):\n",
    "    scaler = MinMaxScaler()\n",
    "    attributes1 = scaler.fit_transform([[product1.calories, product1.fat, product1.carbohydrates, product1.protein]])\n",
    "    attributes2 = scaler.transform([[product2.calories, product2.fat, product2.carbohydrates, product2.protein]])\n",
    "\n",
    "    numeric_similarity = cosine_similarity(attributes1, attributes2)[0][0]\n",
    "\n",
    "    # Jaccard\n",
    "    ingredients_set1 = set(product1.ingredients)\n",
    "    ingredients_set2 = set(product2.ingredients)\n",
    "    \n",
    "    if len(ingredients_set1) == 0 and len(ingredients_set2) == 0:\n",
    "        ingredients_similarity = 1.0\n",
    "    elif len(ingredients_set1) == 0 or len(ingredients_set2) == 0:\n",
    "        ingredients_similarity = 0.0\n",
    "    else:\n",
    "        ingredients_similarity = len(ingredients_set1.intersection(ingredients_set2)) / len(ingredients_set1.union(ingredients_set2))\n",
    "\n",
    "    allergen_penalty = 0.0\n",
    "    if any(allergen in product2.allergens for allergen in user_allergens):\n",
    "        allergen_penalty = 0.035\n",
    "\n",
    "\n",
    "    similarity_score = 0.7 * numeric_similarity + 0.3 * ingredients_similarity - allergen_penalty\n",
    "    return similarity_score\n",
    "\n",
    "\n",
    "def recommend_products(user_basket, all_products, user_allergens = [], N = 9):\n",
    "    if not user_basket:\n",
    "        return sorted(all_products, key=lambda x: x.rating, reverse=True)\n",
    "    \n",
    "    available_products = [product for product in all_products if product not in user_basket]\n",
    "    recommendations = []\n",
    "\n",
    "    for available_product in available_products:\n",
    "        similarity_scores = [compute_similarity(user_product, available_product, user_allergens) for user_product in user_basket]\n",
    "        average_similarity = sum(similarity_scores) / len(similarity_scores)\n",
    "        \n",
    "        print(f\"Product: {available_product.name}\")\n",
    "        print(f\"Similarity Scores: {similarity_scores}\")\n",
    "        print(f\"Average Similarity: {average_similarity}\")\n",
    "        \n",
    "        recommendations.append((available_product, average_similarity))\n",
    "\n",
    "    recommendations.sort(key=lambda x: x[1], reverse=True)\n",
    "    recommended_products = [product for product, _ in recommendations]\n",
    "    return recommended_products[:N]"
   ]
  },
  {
   "cell_type": "markdown",
   "metadata": {},
   "source": [
    "##### Test Implementation"
   ]
  },
  {
   "cell_type": "code",
   "execution_count": 74,
   "metadata": {},
   "outputs": [
    {
     "name": "stdout",
     "output_type": "stream",
     "text": [
      "Top 32 recommended products:\n",
      "id=ObjectId('65d25943c2ef35ebebb785e4') name='Paine boiereasca neagra' brand='Velrom' allergens=['en:gluten', 'en:milk'] ingredients=[] calories=250.0 fat=2.4 carbohydrates=39.0 protein=9.6 rating=4\n",
      "id=ObjectId('65e0ad3bd83183b40dcf2995') name='Pate Porc Picant' brand='Ardealul' allergens=[] ingredients=[] calories=196.0 fat=16.0 carbohydrates=4.0 protein=9.0 rating=2\n",
      "id=ObjectId('65e0fe2dd83183aa03972937') name='Viva Chips Chicken' brand='European Food International' allergens=[] ingredients=[] calories=549.0 fat=33.0 carbohydrates=57.0 protein=5.0 rating=1\n",
      "id=ObjectId('65e1e85ad831834c3c63919b') name='Pastile de codat' brand='PAITON BLYAD' allergens=['en:milk', 'en:sesame-seeds', 'en:crustaceans', 'en:fish', 'en:gluten'] ingredients=[] calories=1.0 fat=0.0 carbohydrates=0.0 protein=0.0 rating=1\n",
      "id=ObjectId('65ea411ff69a9c0e5cb45921') name='Merci Finest Selection' brand='Storck' allergens=['en:soybeans', 'en:eggs', 'en:nuts', 'en:peanuts', 'en:milk', 'en:peach'] ingredients=[] calories=563.0 fat=36.1 carbohydrates=49.9 protein=7.82 rating=1\n",
      "id=ObjectId('65e0ac46d83183b40dcf2994') name='Paine Alba' brand='Pangroup' allergens=[] ingredients=[] calories=245.0 fat=1.0 carbohydrates=52.0 protein=7.5 rating=0\n",
      "id=ObjectId('65e0b1aad8318366c3f58bbf') name='Smart Bucket' brand='KFC' allergens=[] ingredients=[] calories=197.0 fat=9.13 carbohydrates=19.02 protein=9.09 rating=0\n",
      "id=ObjectId('65e1e0a3d831834c3c639198') name='Product With Allergens' brand='Testing Department' allergens=['en:milk', 'en:gluten', 'en:sesame-seeds'] ingredients=[] calories=1.0 fat=1.0 carbohydrates=1.0 protein=1.0 rating=0\n",
      "id=ObjectId('65e1e0e1d831834c3c63919a') name='Product Without Allergens' brand='Testing Department' allergens=[] ingredients=[] calories=1.0 fat=1.0 carbohydrates=1.0 protein=1.0 rating=0\n",
      "id=ObjectId('65e1ea9cd8318381432fb48c') name='Nutella' brand='Ferrero' allergens=['en:milk', 'en:nuts'] ingredients=[] calories=546.0 fat=31.6 carbohydrates=57.6 protein=6.0 rating=0\n",
      "id=ObjectId('65e2fdbfe64d1e9f9f358f9c') name='Paine' brand='Brutaru' allergens=['en:milk', 'en:eggs'] ingredients=[] calories=200.0 fat=53.0 carbohydrates=75.0 protein=30.0 rating=0\n",
      "id=ObjectId('65e3a31cd8318319f7945817') name='Carne de cal' brand=\"Horsin'\" allergens=[''] ingredients=[] calories=0.0 fat=0.0 carbohydrates=0.0 protein=1000.99 rating=0\n",
      "id=ObjectId('65e3a335d8318319f7945818') name='Carne de cal' brand=\"Horsin'\" allergens=['en:milk', 'en:crustaceans', 'en:peanuts'] ingredients=[] calories=0.0 fat=0.0 carbohydrates=0.0 protein=1000.99 rating=0\n",
      "id=ObjectId('65e484b6d83183b85fab6b9e') name='NeutralHealthRating' brand='BrandName' allergens=[''] ingredients=[] calories=120.0 fat=10.0 carbohydrates=50.0 protein=25.0 rating=0\n",
      "id=ObjectId('65e488c5d83183b85fab6ba7') name='etst' brand='est' allergens=[''] ingredients=[] calories=1.0 fat=1.0 carbohydrates=1.0 protein=1.0 rating=0\n",
      "id=ObjectId('65e4ecccf69a9c5c9000edf1') name='Coca Cola Zero' brand='Coca Cola' allergens=['en:nuts', 'en:peanuts', 'en:sulphur-dioxide-and-sulphites', 'en:milk'] ingredients=[] calories=1.0 fat=1.0 carbohydrates=1.0 protein=21.0 rating=0\n",
      "id=ObjectId('65ea06e7e64d1e47f4572989') name='A' brand='a' allergens=['en:milk'] ingredients=[] calories=300.0 fat=100.0 carbohydrates=100.0 protein=100.0 rating=0\n",
      "id=ObjectId('65eb4109e64d1e4a9de47410') name='Lubenita' brand='Lebeinta SRL.' allergens=[] ingredients=[] calories=111.0 fat=111.0 carbohydrates=111.0 protein=111.0 rating=0\n",
      "id=ObjectId('65eb6a15e64d1eabb53c4c93') name='PAITONN BLYAD' brand='gay' allergens=[] ingredients=[] calories=10.0 fat=10.0 carbohydrates=10.0 protein=10.0 rating=0\n",
      "id=ObjectId('65eb6ab8e64d1eabb53c4c95') name='d' brand='d' allergens=[] ingredients=[] calories=6.0 fat=6.0 carbohydrates=6.0 protein=6.0 rating=0\n",
      "id=ObjectId('65ec7b41f69a9c27bc69f104') name='Borsec' brand='Romaqua Group' allergens=[] ingredients=[] calories=0.0 fat=0.0 carbohydrates=0.0 protein=0.0 rating=0\n",
      "id=ObjectId('65eccc7cf69a9c77e4375d24') name='Confetteria Raffaello' brand='Ferrero' allergens=['en:gluten', 'en:soybeans', 'en:nuts', 'en:milk'] ingredients=['en:desiccated-coconut', 'en:fruit', 'en:coconut', 'en:vegetable-fat', 'en:oil-and-fat', 'en:vegetable-oil-and-fat', 'en:sugar', 'en:added-sugar', 'en:disaccharide', 'en:almond', 'en:nut', 'en:tree-nut', 'en:skimmed-milk-powder', 'en:dairy', 'en:milk-powder', 'en:whey-powder', 'en:whey', 'en:wheat-flour', 'en:cereal', 'en:flour', 'en:wheat', 'en:cereal-flour', 'en:tapioca', 'en:starch', 'en:flavouring', 'en:emulsifier', 'en:raising-agent', 'en:salt', 'en:palm', 'en:palm-oil-and-fat', 'en:palm-oil', 'en:shea-butter', 'en:e322', 'en:e500ii', 'en:e500'] calories=627.0 fat=48.3 carbohydrates=38.6 protein=7.4 rating=0\n",
      "id=ObjectId('65ecccd3f69a9c77e4375d25') name='Milka Lait Alpin' brand='Milka,Mondelez' allergens=['en:soybeans', 'en:nuts', 'en:milk'] ingredients=['en:sugar', 'en:added-sugar', 'en:disaccharide', 'en:cocoa-butter', 'en:plant', 'en:cocoa', 'en:cocoa-paste', 'en:skimmed-milk-powder', 'en:dairy', 'en:milk-powder', 'en:whey-powder', 'en:whey', 'en:butterfat', 'en:oil-and-fat', 'en:fat', 'en:milkfat', 'en:emulsifier', 'en:hazelnut-paste', 'en:nut', 'en:tree-nut', 'en:hazelnut', 'en:flavouring', 'en:soya-lecithin', 'en:e322', 'en:e322i'] calories=539.0 fat=31.0 carbohydrates=57.0 protein=6.5 rating=0\n",
      "id=ObjectId('65ecccebf69a9c77e4375d26') name='Granini ananas' brand='Granini' allergens=[] ingredients=['en:pineapple-juice-from-concentrate', 'en:fruit', 'en:juice', 'en:fruit-juice', 'en:pineapple', 'en:pineapple-juice', 'en:water', 'en:sugar', 'en:added-sugar', 'en:disaccharide', 'en:acid', 'en:stabiliser', 'en:antioxidant', 'en:e330', 'en:e440a', 'en:e300'] calories=45.0 fat=0.2 carbohydrates=11.0 protein=0.5 rating=0\n",
      "id=ObjectId('65ecce69f69a9c77e4375d27') name='Takis Hot' brand='Takis' allergens=[] ingredients=['en:maiz-harina', 'en:fat', 'en:oil-and-fat', 'en:seasoning-prepared-taste-of-chile-and-lima', 'en:palma', 'en:potato-maltodextrin', 'en:maltodextrin', 'en:salt', 'en:sugar', 'en:added-sugar', 'en:disaccharide', 'en:acidity-correctors', 'en:flavour-enhancer', 'en:yeast-extract', 'en:yeast', 'en:onion', 'en:vegetable', 'en:root-vegetable', 'en:onion-family-vegetable', 'en:flavouring', 'en:colour', 'en:colza-vegetable-oil', 'en:acid', 'en:e334', 'en:l', 'en:e330', 'en:e500', 'en:e262', 'en:monodium-glutamate', 'en:5-ribonucleotids-didium', 'en:pimenton-extract'] calories=516.0 fat=30.0 carbohydrates=53.0 protein=5.5 rating=0\n",
      "id=ObjectId('65ecce83f69a9c77e4375d28') name='Sprite Summer' brand='Sprite' allergens=[] ingredients=['en:water', 'en:glucose-fructose-syrup', 'en:added-sugar', 'en:monosaccharide', 'en:fructose', 'en:glucose', 'en:e290', 'en:e330', 'en:e950', 'en:e951', 'en:e959', 'en:e211', 'en:e331', 'en:flavouring'] calories=9.0 fat=0.0 carbohydrates=1.9 protein=0.0 rating=0\n",
      "id=ObjectId('65ecce9ff69a9c77e4375d29') name='Pelotazos' brand='Cheetos' allergens=['en:milk'] ingredients=['en:grits-is', 'en:corn-oil', 'en:oil-and-fat', 'en:vegetable-oil-and-fat', 'en:vegetable-oil', 'en:aroma-of-cheese', 'en:sugar', 'en:added-sugar', 'en:disaccharide', 'en:salt', 'en:colour', 'en:lactose', 'en:flavouring', 'en:whey-powder', 'en:dairy', 'en:whey', 'en:flavour-enhancer', 'en:smoke-flavouring', 'en:vegetable', 'en:paprika', 'en:condiment', 'en:spice', 'en:annato', 'en:e621', 'en:inosinato', 'en:guanylate-disodicos'] calories=503.0 fat=27.0 carbohydrates=59.2 protein=5.1 rating=0\n",
      "id=ObjectId('65ecceaff69a9c77e4375d2a') name='Pepsi Max' brand='PepsiCo, Pepsi zero' allergens=[] ingredients=['en:carbonated-water', 'en:water', 'en:colour', 'en:sweetener', 'en:acid', 'en:acidity-regulator', 'en:flavouring', 'en:e150d', 'en:e951', 'en:e950', 'en:e338', 'en:e330', 'en:sodium-citrate', 'en:minerals', 'en:sodium', 'en:plant-extracts', 'en:plant', 'en:caffeine'] calories=0.4 fat=0.0 carbohydrates=0.0 protein=0.0 rating=0\n",
      "id=ObjectId('65eccebdf69a9c77e4375d2b') name='Dare' brand='ETi' allergens=['en:gluten'] ingredients=['en:iatorilor', 'en:nr', 'en:10', 'en:orter-w-polsce', 'en:90-216-651-0-384-call-center-www-etietieti-com-6-2-1-mil-r', 'en:oleje-roślinne-mleko-w-zkowany-syrop-glukozowy', 'en:mate-8-690526-065700-udvull-yesayic-reteaurens', 'en:kohlenhydrate', 'en:węglowodany', 'en:davon-zucket-tal', 'en:business-park', 'en:g'] calories=527.0 fat=30.0 carbohydrates=57.0 protein=5.4 rating=0\n",
      "id=ObjectId('65ecceeaf69a9c77e4375d2c') name='Gran cucina' brand='Gran cucina' allergens=['en:soybeans', 'en:milk'] ingredients=['en:malt', 'en:cereal'] calories=189.0 fat=16.4 carbohydrates=7.0 protein=3.0 rating=0\n",
      "id=ObjectId('65eccf03f69a9c77e4375d2d') name='Céréales Chocapic' brand='Nestlé,Chocapic' allergens=['en:gluten'] ingredients=['en:whole-wheat', 'en:cereal', 'en:wheat', 'en:chocolate-powder', 'en:chocolate', 'en:wheat-flour', 'en:flour', 'en:cereal-flour', 'en:cornmeal', 'en:corn', 'en:glucose-syrup', 'en:added-sugar', 'en:monosaccharide', 'en:glucose', 'en:sugar', 'en:disaccharide', 'en:barley-malt-extract', 'en:malt', 'en:malted-barley', 'en:palm-oil', 'en:oil-and-fat', 'en:vegetable-oil-and-fat', 'en:palm-oil-and-fat', 'en:e170i', 'en:e170', 'en:emulsifier', 'en:salt', 'en:natural-flavouring', 'en:flavouring', 'en:iron', 'en:minerals', 'en:vitamins', 'en:e375', 'en:pantothenic-acid', 'en:vitamin-d', 'en:vitamin-b6', 'en:thiamin', 'en:e101', 'en:folic-acid', 'en:folate', 'en:cocoa-powder', 'en:plant', 'en:cocoa', 'en:barley', 'en:e322'] calories=388.0 fat=4.8 carbohydrates=73.6 protein=8.8 rating=0\n",
      "id=ObjectId('65ece0c2f69a9c77e4375d2e') name='Belvita Petit Déjeuner Chocolat' brand='LU,Mondelez' allergens=['en:gluten', 'en:milk'] ingredients=['en:cereal', 'en:colza-oil', 'en:oil-and-fat', 'en:vegetable-oil-and-fat', 'en:rapeseed-oil', 'en:fat-reduced-cocoa-powder', 'en:plant', 'en:cocoa', 'en:cocoa-powder', 'en:wheat-starch', 'en:starch', 'en:raising-agent', 'en:minerals', 'en:emulsifier', 'en:salt', 'en:flavouring', 'en:skimmed-milk-powder', 'en:dairy', 'en:milk-powder', 'en:wholemeal-cereal', 'en:wheat-flour', 'en:flour', 'en:wheat', 'en:cereal-flour', 'en:sugar', 'en:added-sugar', 'en:disaccharide', 'en:chocolate-chunk', 'en:chocolate', 'en:cocoa-paste', 'en:palm-fat', 'en:palm-oil-and-fat', 'en:shea-butter', 'en:vegetable-fat', 'en:dextrose', 'en:monosaccharide', 'en:glucose', 'en:cocoa-butter', 'en:e503', 'en:e450', 'en:e500', 'en:e170i', 'en:e170', 'en:e504i', 'en:e504', 'en:elemental-iron', 'en:iron', 'en:soya-lecithin', 'en:e322', 'en:e322i', 'en:e492', 'en:e472e', 'en:whole-wheat-flour', 'en:wholemeal-flour', 'en:oat-flakes', 'en:oat', 'en:wholemeal-barley-flour', 'en:barley', 'en:barley-flour', 'en:wholemeal-rye-flour', 'en:rye-flour', 'en:wholemeal-spelt-flour', 'en:spelt-flour'] calories=440.0 fat=15.0 carbohydrates=66.0 protein=7.9 rating=0\n",
      "Available products:\n",
      "product\n",
      "product\n",
      "product\n",
      "product\n",
      "product\n",
      "product\n",
      "product\n",
      "product\n",
      "product\n",
      "product\n",
      "product\n",
      "product\n",
      "product\n",
      "product\n",
      "product\n",
      "product\n",
      "product\n",
      "product\n",
      "product\n",
      "product\n",
      "product\n",
      "product\n",
      "product\n",
      "product\n",
      "product\n",
      "product\n",
      "product\n",
      "product\n",
      "product\n",
      "product\n",
      "product\n",
      "product\n"
     ]
    }
   ],
   "source": [
    "recommendations_count = len(all_products)\n",
    "\n",
    "top_recommendations = recommend_products(user_basket, all_products, user_allergens, recommendations_count)\n",
    "\n",
    "print(f\"Top {recommendations_count} recommended products:\")\n",
    "for recommendation in top_recommendations:\n",
    "    print(recommendation)\n",
    "\n",
    "print(\"Available products:\")\n",
    "for product in all_products:\n",
    "    print(f\"product\")"
   ]
  }
 ],
 "metadata": {
  "kernelspec": {
   "display_name": "Python 3",
   "language": "python",
   "name": "python3"
  },
  "language_info": {
   "codemirror_mode": {
    "name": "ipython",
    "version": 3
   },
   "file_extension": ".py",
   "mimetype": "text/x-python",
   "name": "python",
   "nbconvert_exporter": "python",
   "pygments_lexer": "ipython3",
   "version": "3.10.12"
  }
 },
 "nbformat": 4,
 "nbformat_minor": 2
}
