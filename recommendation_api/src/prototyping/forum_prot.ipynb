{
 "cells": [
  {
   "cell_type": "markdown",
   "metadata": {},
   "source": [
    "#### Libraries/Imports"
   ]
  },
  {
   "cell_type": "code",
   "execution_count": 115,
   "metadata": {},
   "outputs": [],
   "source": [
    "import requests\n",
    "\n",
    "from bson import ObjectId\n",
    "from pydantic.json import ENCODERS_BY_TYPE\n",
    "\n",
    "from pydantic import BaseModel, Field\n",
    "from typing import List, Optional\n",
    "\n",
    "import numpy as np\n",
    "\n",
    "import torch\n",
    "from transformers import AutoTokenizer, AutoModel"
   ]
  },
  {
   "cell_type": "markdown",
   "metadata": {},
   "source": [
    "##### Helper Models"
   ]
  },
  {
   "cell_type": "code",
   "execution_count": 116,
   "metadata": {},
   "outputs": [],
   "source": [
    "class PydanticObjectId(ObjectId):\n",
    "    \"\"\"\n",
    "    Object Id field. Compatible with Pydantic.\n",
    "    \"\"\"\n",
    "\n",
    "    @classmethod\n",
    "    def __get_validators__(cls):\n",
    "        yield cls.validate\n",
    "\n",
    "    @classmethod\n",
    "    def validate(cls, v):\n",
    "        return PydanticObjectId(v)\n",
    "\n",
    "    @classmethod\n",
    "    def __modify_schema__(cls, field_schema: dict):\n",
    "        field_schema.update(\n",
    "            type=\"string\",\n",
    "        )\n",
    "\n",
    "\n",
    "ENCODERS_BY_TYPE[PydanticObjectId] = str"
   ]
  },
  {
   "cell_type": "code",
   "execution_count": 117,
   "metadata": {},
   "outputs": [],
   "source": [
    "class UserForum(BaseModel):\n",
    "    id: Optional[PydanticObjectId] = Field(None, alias=\"_id\")\n",
    "    following_ids: List[PydanticObjectId]\n",
    "\n",
    "class Post(BaseModel):\n",
    "    id: Optional[PydanticObjectId] = Field(None, alias=\"_id\")\n",
    "    author_id: PydanticObjectId\n",
    "    title: str\n",
    "    content: str\n",
    "    hashtags: List[str]\n",
    "    response_to_id: Optional[PydanticObjectId]"
   ]
  },
  {
   "cell_type": "markdown",
   "metadata": {},
   "source": [
    "##### API URL"
   ]
  },
  {
   "cell_type": "code",
   "execution_count": 118,
   "metadata": {},
   "outputs": [],
   "source": [
    "url = 'http://localhost:5000/posts'"
   ]
  },
  {
   "cell_type": "code",
   "execution_count": 119,
   "metadata": {},
   "outputs": [
    {
     "name": "stdout",
     "output_type": "stream",
     "text": [
      "Response content:\n",
      "{'posts': [{'_id': '65e3204ce64d1e43b6dd7875', 'author_id': '65e1f82be64d1e71f2a9226b', 'content': 'My special thanks to @at0mul @z @abc', 'hashtags': ['hub_page'], 'title': 'Hello, #hub_page'}, {'_id': '65e326d7e64d1eb175d8bd33', 'author_id': '65e3050de64d1eb2ddb0c678', 'content': '', 'hashtags': [], 'response_to_id': '65e3204ce64d1e43b6dd7875', 'title': 'fr, really cool'}, {'_id': '65e32799e64d1ec521b63709', 'author_id': '65e249baf69a9c082c820154', 'content': '', 'hashtags': [], 'response_to_id': '65e3204ce64d1e43b6dd7875', 'title': 'hmmm'}, {'_id': '65e726e8e64d1e32b88e928b', 'author_id': '65e6e573e64d1e32dacf9881', 'content': 'Astazi facem review la shaormeria din spatele blocului.\\n\\nNu pot pune in cuvinte ce inseamna aceasta locatie pentru mine. Imi aduc cu drag de inima aminte momentul in care maicuta mea m-a dus sa imi ia primul donner din aceasta locatie.\\n\\nAstazi, privind locatie cu alti ochi, pot spune ca nu impresioneaza in niciun aspect, dar cu siguranta intelege bazele a ceea ce face o shaorma buna. Lucru pe care il vezi tot mai rar la shaormeriile mai pretentioase.\\n\\nVeniti aici si mancati o shaorma peste medie!', 'hashtags': [], 'title': 'Imi place sa mananc aicea'}, {'_id': '65e73245e64d1e5d32b785b8', 'author_id': '65e6e573e64d1e32dacf9881', 'content': '', 'hashtags': [], 'title': 'Mie imi place placinta'}, {'_id': '65e73298e64d1e5d32b785b9', 'author_id': '65e6e573e64d1e32dacf9881', 'content': \"I'm baby literally mixtape intelligentsia irony, adaptogen pop-up grailed praxis cardigan readymade edison bulb YOLO. Venmo tofu narwhal, keffiyeh prism single-origin coffee echo park cloud bread pop-up. Migas put a bird on it praxis air plant typewriter, hammock narwhal chicharrones gatekeep. Iceland hoodie williamsburg venmo kombucha adaptogen, salvia waistcoat narwhal. Fingerstache typewriter lumbersexual small batch pour-over. Cupping master cleanse chartreuse typewriter.\", 'hashtags': [], 'title': 'Lorem ipsum'}, {'_id': '65e7361fe64d1e5d32b785ba', 'author_id': '65e6e573e64d1e32dacf9881', 'content': 'Before they sold out synth four dollar toast bicycle rights fixie wolf. Brooklyn cupping marfa, kinfolk vaporware readymade meditation poutine. Affogato etsy austin PBR&B. Echo park cornhole la croix chartreuse. Pok pok mixtape venmo mumblecore paleo pinterest, semiotics fixie selfies.', 'hashtags': ['1'], 'title': 'Parere #1'}, {'_id': '65e73646e64d1e5d32b785bb', 'author_id': '65e6e573e64d1e32dacf9881', 'content': 'Enamel pin bruh gorpcore, squid before they sold out scenester listicle disrupt tofu. Solarpunk leggings XOXO sustainable stumptown. Blog normcore cronut, fashion axe vinyl chia VHS. Celiac fam meditation yes plz, kombucha single-origin coffee next level ethical church-key praxis chicharrones ascot.', 'hashtags': ['2'], 'title': 'Parere #2'}, {'_id': '65e7365fe64d1e5d32b785bc', 'author_id': '65e6e573e64d1e32dacf9881', 'content': \"Health goth palo santo JOMO bodega boys praxis small batch. Fashion axe man bun literally poutine food truck knausgaard JOMO disrupt subway tile copper mug brunch cupping. Blue bottle heirloom banh mi health goth. Jianbing XOXO you probably haven't heard of them, truffaut polaroid readymade messenger bag flannel pork belly biodiesel meh unicorn. Pug tofu keytar, banh mi you probably haven't heard of them pok pok franzen biodiesel.\", 'hashtags': ['3'], 'title': 'Parere #3'}, {'_id': '65e73674e64d1e5d32b785bd', 'author_id': '65e6e573e64d1e32dacf9881', 'content': 'Ethical enamel pin vinyl fingerstache. Pork belly kogi vinyl mlkshk blue bottle, meggings tattooed subway tile church-key authentic master cleanse letterpress selvage woke crucifix. Typewriter single-origin coffee 3 wolf moon chartreuse tbh, tote bag praxis actually solarpunk narwhal disrupt kickstarter glossier jawn. Tousled franzen green juice fit iPhone lumbersexual four loko knausgaard gentrify edison bulb meditation shaman hexagon yuccie.', 'hashtags': ['6'], 'title': 'Parere #6'}, {'_id': '65e77650e64d1e844a9dd4fe', 'author_id': '65e3050de64d1eb2ddb0c678', 'content': '', 'hashtags': [], 'title': 'Da frt ai dreptate'}, {'_id': '65e7767de64d1e844a9dd4ff', 'author_id': '65e3050de64d1eb2ddb0c678', 'content': '', 'hashtags': [], 'title': 'indeed'}, {'_id': '65e776b4e64d1e844a9dd500', 'author_id': '65e3050de64d1eb2ddb0c678', 'content': '', 'hashtags': [], 'title': 'WHAT'}, {'_id': '65e776fce64d1e844a9dd501', 'author_id': '65e3050de64d1eb2ddb0c678', 'content': '', 'hashtags': [], 'title': 'WHAT'}, {'_id': '65e7776ee64d1e844a9dd502', 'author_id': '65e3050de64d1eb2ddb0c678', 'content': '', 'hashtags': [], 'title': 'WHAT'}, {'_id': '65e779a1e64d1e9380cd974d', 'author_id': '65e3050de64d1eb2ddb0c678', 'content': '', 'hashtags': [], 'response_to_id': '65e73674e64d1e5d32b785bd', 'title': 'pe bune'}, {'_id': '65e77a09e64d1e9380cd974e', 'author_id': '65e3050de64d1eb2ddb0c678', 'content': 'bine zici sef', 'hashtags': [], 'response_to_id': '65e73674e64d1e5d32b785bd', 'title': 'fr'}, {'_id': '65e77acee64d1e9380cd974f', 'author_id': '65e3050de64d1eb2ddb0c678', 'content': '', 'hashtags': [], 'response_to_id': '65e779a1e64d1e9380cd974d', 'title': 'cum sa n-am dreptate'}, {'_id': '65e77c7de64d1e9380cd9750', 'author_id': '65e3050de64d1eb2ddb0c678', 'content': '/=/=/=/=/=/=/=/=/=/=/=/=/=/=/=/=/=/=/', 'hashtags': [], 'response_to_id': '65e77acee64d1e9380cd974f', 'title': 'Sa construim un lant!'}, {'_id': '65e8c7a9e64d1e8f8abe3564', 'author_id': '65e3050de64d1eb2ddb0c678', 'content': '', 'hashtags': [], 'response_to_id': '65e7365fe64d1e5d32b785bc', 'title': 'Varule ai o parere proasta'}, {'_id': '65e8c8cce64d1e8f8abe3566', 'author_id': '65e3050de64d1eb2ddb0c678', 'content': '', 'hashtags': ['1'], 'response_to_id': '65e77a09e64d1e9380cd974e', 'title': 'Reply #1'}, {'_id': '65e8c8d7e64d1e8f8abe3567', 'author_id': '65e3050de64d1eb2ddb0c678', 'content': '', 'hashtags': [], 'response_to_id': '65e77a09e64d1e9380cd974e', 'title': 'Reply 2'}, {'_id': '65e8ed74e64d1ee318d6ee5b', 'author_id': '65e3050de64d1eb2ddb0c678', 'content': '', 'hashtags': [], 'response_to_id': '65e726e8e64d1e32b88e928b', 'title': 'Fr, mi-a schimbat viata! :smile:'}, {'_id': '65e8eda2e64d1ee318d6ee5c', 'author_id': '65e3050de64d1eb2ddb0c678', 'content': '', 'hashtags': [], 'response_to_id': '65e726e8e64d1e32b88e928b', 'title': '😀'}, {'_id': '65e99c33e64d1e42abd73843', 'author_id': '65e3050de64d1eb2ddb0c678', 'content': '', 'hashtags': ['imiplacesamananc'], 'response_to_id': '65e7365fe64d1e5d32b785bc', 'title': 'Si mie #imiplacesamananc @imiplacesamananc'}, {'_id': '65e99f38e64d1e42abd73845', 'author_id': '65e3050de64d1eb2ddb0c678', 'content': '@userulastanuexista\\n\\n#loremipsum', 'hashtags': [], 'response_to_id': '65e73298e64d1e5d32b785b9', 'title': 'Ce vorbesti acolo varule'}, {'_id': '65e99fbae64d1e42abd73846', 'author_id': '65e3050de64d1eb2ddb0c678', 'content': '#aici-nu', 'hashtags': ['aici'], 'response_to_id': '65e73674e64d1e5d32b785bd', 'title': '#aici-merge'}, {'_id': '65e99fe3e64d1e42abd73847', 'author_id': '65e3050de64d1eb2ddb0c678', 'content': '@nuexistauserul\\n@z\\n#cthuiarcheihatoehutha', 'hashtags': [], 'response_to_id': '65e73674e64d1e5d32b785bd', 'title': '@nuexistauserul'}, {'_id': '65e9a053e64d1e42abd73849', 'author_id': '65e3050de64d1eb2ddb0c678', 'content': '#merge', 'hashtags': ['numaiinteleg'], 'response_to_id': '65e99fbae64d1e42abd73846', 'title': '#numaiinteleg'}, {'_id': '65e9a284e64d1e42abd7384a', 'author_id': '65e3050de64d1eb2ddb0c678', 'content': '#odata', 'hashtags': ['inca'], 'response_to_id': '65e99fbae64d1e42abd73846', 'title': '#inca'}, {'_id': '65e9a2bfe64d1ec0702b1449', 'author_id': '65e3050de64d1eb2ddb0c678', 'content': '#b', 'hashtags': ['a'], 'response_to_id': '65e73674e64d1e5d32b785bd', 'title': '#a'}, {'_id': '65e9a2f9e64d1ec0702b144a', 'author_id': '65e3050de64d1eb2ddb0c678', 'content': 'aoeiao.uaoueoa', 'hashtags': [], 'response_to_id': '65e73674e64d1e5d32b785bd', 'title': 'ieoau.aoi'}, {'_id': '65e9a362e64d1ec0702b144b', 'author_id': '65e3050de64d1eb2ddb0c678', 'content': '#moron\\n@z\\n@imiplacesamananc\\n@a\\n@churcahoetuhtaohietah', 'hashtags': ['im', 'moron'], 'response_to_id': '65e73674e64d1e5d32b785bd', 'title': '#im'}, {'_id': '65e9ac48e64d1ec0702b144f', 'author_id': '65e3050de64d1eb2ddb0c678', 'content': '', 'hashtags': [], 'title': 'Ce imi place locul asta'}, {'_id': '65e9ac59e64d1ec0702b1450', 'author_id': '65e3050de64d1eb2ddb0c678', 'content': '#hellohub', 'hashtags': ['hellohub'], 'response_to_id': '65e99fbae64d1e42abd73846', 'title': 'Imi place locul asta!'}, {'_id': '65e9ad58e64d1ec0702b1451', 'author_id': '65e3050de64d1eb2ddb0c678', 'content': 'Este ca le am cu hashtagurile?', 'hashtags': ['hellohub'], 'title': '#hellohub'}, {'_id': '65e9ae68e64d1ec0702b1452', 'author_id': '65e6e573e64d1e32dacf9881', 'content': '#hellohub', 'hashtags': ['hellohub'], 'title': 'sup dawg @z'}, {'_id': '65e9af40e64d1ec0702b1454', 'author_id': '65e6e573e64d1e32dacf9881', 'content': '#traiascainternetul', 'hashtags': ['traiascainternetul'], 'response_to_id': '65e9ad58e64d1ec0702b1451', 'title': 'Le ai sef.'}, {'_id': '65e9af69e64d1ec0702b1456', 'author_id': '65e6e573e64d1e32dacf9881', 'content': '', 'hashtags': [], 'response_to_id': '65e9ae68e64d1ec0702b1452', 'title': 'whats upp g'}, {'_id': '65e9ef80e64d1e47f4572976', 'author_id': '65e6e573e64d1e32dacf9881', 'content': '@z', 'hashtags': [], 'title': 'frt vreau sa iti emit notificare'}, {'_id': '65e9ef93e64d1e47f4572978', 'author_id': '65e6e573e64d1e32dacf9881', 'content': '', 'hashtags': [], 'response_to_id': '65e9ac48e64d1ec0702b144f', 'title': 'Ia vezi varule, ai fost notificat?'}, {'_id': '65e9f02ae64d1e47f457297b', 'author_id': '65e6e573e64d1e32dacf9881', 'content': '', 'hashtags': [], 'response_to_id': '65e9ac48e64d1ec0702b144f', 'title': 'Inca odata pt notificare'}, {'_id': '65ea0540e64d1e47f4572986', 'author_id': '65e3050de64d1eb2ddb0c678', 'content': 'Content #hashtag @z', 'hashtags': ['hashtag'], 'title': 'Titlu'}, {'_id': '65eca3acf69a9c77e4375d1a', 'author_id': '65e63b39f69a9c0924b1f400', 'content': 'O paine decenta #longlivetheboiereasca', 'hashtags': ['longlivetheboiereasca'], 'title': 'Paine boiereasca'}, {'_id': '65eca3c0f69a9c77e4375d1b', 'author_id': '65e63b39f69a9c0924b1f400', 'content': 'O paine decenta #longlivetheboiereasca', 'hashtags': ['longlivetheboiereasca'], 'title': 'Paine boiereasca'}, {'_id': '65ecf3e9d831834e9e21a97f', 'author_id': '65e475a5d831837d3a72eac5', 'content': 'Unde mergem sa petrecem\\nCand plecam din cluburi tari?!\\nLa lautari, unde canta lautari\\nhttps://www.versuri.ro/w/8jt2\\nUnde intra spritu bine\\nSi se fac petreceri mari\\nLa lautari, unde canta lautari', 'hashtags': [], 'title': 'La lautari'}, {'_id': '65ecf558d831834e9e21a982', 'author_id': '65e475a5d831837d3a72eac5', 'content': 'Eu cu Amtilb stăm în spate, patru bagaboante\\nPar puțin fumate, deci sunt sparte, parfumate\\nO împart fiindcă sunt dulce cofetar de\\nStradă mușc din savarină și biscuiți cu lapte\\nEu cu Amtilb stăm în spate, patru bagaboante\\nNe conduc mașina așa șofer n-ai văzut frate\\nLe duc până la cofetărie-n spate\\nIau mini-eclere și le întreb: „parlez-vous français”?', 'hashtags': [], 'response_to_id': '65ecf3e9d831834e9e21a97f', 'title': 'Nefiu'}, {'_id': '65ecf5a2d831834e9e21a984', 'author_id': '65e475a5d831837d3a72eac5', 'content': \"@lilcagula-official\\nStau în pat (Stau în pat)\\nMă gândesc la un cur bombat\\nBucile ca mingi de fotbal, pe ambele le-am jucat\\nAi dat bani să fuți o fată, coaie, ești un retardat\\nFemeie cu pizda poartă, ai dat șut și ai ratat\\nNimănui nu-i pasă că gagică-ta e rac (Aha)\\nAu cardit-o 12 aseară, au completat un zodiac (Aha)\\nȚi-e frică să vină ploaia, aoleu, te-ai speriat (Aha)\\n(Ye) Acu' fi sincer cu noi, de cât timp nu te-ai mai spălat?\", 'hashtags': ['LilCagula'], 'response_to_id': '65ecf558d831834e9e21a982', 'title': 'Biliard #LilCagula'}]}\n"
     ]
    }
   ],
   "source": [
    "try:\n",
    "    response = requests.get(url)\n",
    "\n",
    "    if response.status_code == 200:\n",
    "        print(\"Response content:\")\n",
    "        response_content = response.json()\n",
    "        print(response_content)\n",
    "    else:\n",
    "        print(f\"Failed to retrieve data. Status code: {response.status_code}\")\n",
    "\n",
    "except requests.exceptions.RequestException as e:\n",
    "    print(f\"Error occurred: {e}\")"
   ]
  },
  {
   "cell_type": "code",
   "execution_count": 120,
   "metadata": {},
   "outputs": [
    {
     "name": "stdout",
     "output_type": "stream",
     "text": [
      "All posts:\n",
      "id=ObjectId('65e3204ce64d1e43b6dd7875') author_id=ObjectId('65e1f82be64d1e71f2a9226b') title='Hello, #hub_page' content='My special thanks to @at0mul @z @abc' hashtags=['hub_page'] response_to_id=None\n",
      "id=ObjectId('65e326d7e64d1eb175d8bd33') author_id=ObjectId('65e3050de64d1eb2ddb0c678') title='fr, really cool' content='' hashtags=[] response_to_id=ObjectId('65e3204ce64d1e43b6dd7875')\n",
      "id=ObjectId('65e32799e64d1ec521b63709') author_id=ObjectId('65e249baf69a9c082c820154') title='hmmm' content='' hashtags=[] response_to_id=ObjectId('65e3204ce64d1e43b6dd7875')\n",
      "id=ObjectId('65e726e8e64d1e32b88e928b') author_id=ObjectId('65e6e573e64d1e32dacf9881') title='Imi place sa mananc aicea' content='Astazi facem review la shaormeria din spatele blocului.\\n\\nNu pot pune in cuvinte ce inseamna aceasta locatie pentru mine. Imi aduc cu drag de inima aminte momentul in care maicuta mea m-a dus sa imi ia primul donner din aceasta locatie.\\n\\nAstazi, privind locatie cu alti ochi, pot spune ca nu impresioneaza in niciun aspect, dar cu siguranta intelege bazele a ceea ce face o shaorma buna. Lucru pe care il vezi tot mai rar la shaormeriile mai pretentioase.\\n\\nVeniti aici si mancati o shaorma peste medie!' hashtags=[] response_to_id=None\n",
      "id=ObjectId('65e73245e64d1e5d32b785b8') author_id=ObjectId('65e6e573e64d1e32dacf9881') title='Mie imi place placinta' content='' hashtags=[] response_to_id=None\n",
      "id=ObjectId('65e73298e64d1e5d32b785b9') author_id=ObjectId('65e6e573e64d1e32dacf9881') title='Lorem ipsum' content=\"I'm baby literally mixtape intelligentsia irony, adaptogen pop-up grailed praxis cardigan readymade edison bulb YOLO. Venmo tofu narwhal, keffiyeh prism single-origin coffee echo park cloud bread pop-up. Migas put a bird on it praxis air plant typewriter, hammock narwhal chicharrones gatekeep. Iceland hoodie williamsburg venmo kombucha adaptogen, salvia waistcoat narwhal. Fingerstache typewriter lumbersexual small batch pour-over. Cupping master cleanse chartreuse typewriter.\" hashtags=[] response_to_id=None\n",
      "id=ObjectId('65e7361fe64d1e5d32b785ba') author_id=ObjectId('65e6e573e64d1e32dacf9881') title='Parere #1' content='Before they sold out synth four dollar toast bicycle rights fixie wolf. Brooklyn cupping marfa, kinfolk vaporware readymade meditation poutine. Affogato etsy austin PBR&B. Echo park cornhole la croix chartreuse. Pok pok mixtape venmo mumblecore paleo pinterest, semiotics fixie selfies.' hashtags=['1'] response_to_id=None\n",
      "id=ObjectId('65e73646e64d1e5d32b785bb') author_id=ObjectId('65e6e573e64d1e32dacf9881') title='Parere #2' content='Enamel pin bruh gorpcore, squid before they sold out scenester listicle disrupt tofu. Solarpunk leggings XOXO sustainable stumptown. Blog normcore cronut, fashion axe vinyl chia VHS. Celiac fam meditation yes plz, kombucha single-origin coffee next level ethical church-key praxis chicharrones ascot.' hashtags=['2'] response_to_id=None\n",
      "id=ObjectId('65e7365fe64d1e5d32b785bc') author_id=ObjectId('65e6e573e64d1e32dacf9881') title='Parere #3' content=\"Health goth palo santo JOMO bodega boys praxis small batch. Fashion axe man bun literally poutine food truck knausgaard JOMO disrupt subway tile copper mug brunch cupping. Blue bottle heirloom banh mi health goth. Jianbing XOXO you probably haven't heard of them, truffaut polaroid readymade messenger bag flannel pork belly biodiesel meh unicorn. Pug tofu keytar, banh mi you probably haven't heard of them pok pok franzen biodiesel.\" hashtags=['3'] response_to_id=None\n",
      "id=ObjectId('65e73674e64d1e5d32b785bd') author_id=ObjectId('65e6e573e64d1e32dacf9881') title='Parere #6' content='Ethical enamel pin vinyl fingerstache. Pork belly kogi vinyl mlkshk blue bottle, meggings tattooed subway tile church-key authentic master cleanse letterpress selvage woke crucifix. Typewriter single-origin coffee 3 wolf moon chartreuse tbh, tote bag praxis actually solarpunk narwhal disrupt kickstarter glossier jawn. Tousled franzen green juice fit iPhone lumbersexual four loko knausgaard gentrify edison bulb meditation shaman hexagon yuccie.' hashtags=['6'] response_to_id=None\n",
      "id=ObjectId('65e77650e64d1e844a9dd4fe') author_id=ObjectId('65e3050de64d1eb2ddb0c678') title='Da frt ai dreptate' content='' hashtags=[] response_to_id=None\n",
      "id=ObjectId('65e7767de64d1e844a9dd4ff') author_id=ObjectId('65e3050de64d1eb2ddb0c678') title='indeed' content='' hashtags=[] response_to_id=None\n",
      "id=ObjectId('65e776b4e64d1e844a9dd500') author_id=ObjectId('65e3050de64d1eb2ddb0c678') title='WHAT' content='' hashtags=[] response_to_id=None\n",
      "id=ObjectId('65e776fce64d1e844a9dd501') author_id=ObjectId('65e3050de64d1eb2ddb0c678') title='WHAT' content='' hashtags=[] response_to_id=None\n",
      "id=ObjectId('65e7776ee64d1e844a9dd502') author_id=ObjectId('65e3050de64d1eb2ddb0c678') title='WHAT' content='' hashtags=[] response_to_id=None\n",
      "id=ObjectId('65e779a1e64d1e9380cd974d') author_id=ObjectId('65e3050de64d1eb2ddb0c678') title='pe bune' content='' hashtags=[] response_to_id=ObjectId('65e73674e64d1e5d32b785bd')\n",
      "id=ObjectId('65e77a09e64d1e9380cd974e') author_id=ObjectId('65e3050de64d1eb2ddb0c678') title='fr' content='bine zici sef' hashtags=[] response_to_id=ObjectId('65e73674e64d1e5d32b785bd')\n",
      "id=ObjectId('65e77acee64d1e9380cd974f') author_id=ObjectId('65e3050de64d1eb2ddb0c678') title='cum sa n-am dreptate' content='' hashtags=[] response_to_id=ObjectId('65e779a1e64d1e9380cd974d')\n",
      "id=ObjectId('65e77c7de64d1e9380cd9750') author_id=ObjectId('65e3050de64d1eb2ddb0c678') title='Sa construim un lant!' content='/=/=/=/=/=/=/=/=/=/=/=/=/=/=/=/=/=/=/' hashtags=[] response_to_id=ObjectId('65e77acee64d1e9380cd974f')\n",
      "id=ObjectId('65e8c7a9e64d1e8f8abe3564') author_id=ObjectId('65e3050de64d1eb2ddb0c678') title='Varule ai o parere proasta' content='' hashtags=[] response_to_id=ObjectId('65e7365fe64d1e5d32b785bc')\n",
      "id=ObjectId('65e8c8cce64d1e8f8abe3566') author_id=ObjectId('65e3050de64d1eb2ddb0c678') title='Reply #1' content='' hashtags=['1'] response_to_id=ObjectId('65e77a09e64d1e9380cd974e')\n",
      "id=ObjectId('65e8c8d7e64d1e8f8abe3567') author_id=ObjectId('65e3050de64d1eb2ddb0c678') title='Reply 2' content='' hashtags=[] response_to_id=ObjectId('65e77a09e64d1e9380cd974e')\n",
      "id=ObjectId('65e8ed74e64d1ee318d6ee5b') author_id=ObjectId('65e3050de64d1eb2ddb0c678') title='Fr, mi-a schimbat viata! :smile:' content='' hashtags=[] response_to_id=ObjectId('65e726e8e64d1e32b88e928b')\n",
      "id=ObjectId('65e8eda2e64d1ee318d6ee5c') author_id=ObjectId('65e3050de64d1eb2ddb0c678') title='😀' content='' hashtags=[] response_to_id=ObjectId('65e726e8e64d1e32b88e928b')\n",
      "id=ObjectId('65e99c33e64d1e42abd73843') author_id=ObjectId('65e3050de64d1eb2ddb0c678') title='Si mie #imiplacesamananc @imiplacesamananc' content='' hashtags=['imiplacesamananc'] response_to_id=ObjectId('65e7365fe64d1e5d32b785bc')\n",
      "id=ObjectId('65e99f38e64d1e42abd73845') author_id=ObjectId('65e3050de64d1eb2ddb0c678') title='Ce vorbesti acolo varule' content='@userulastanuexista\\n\\n#loremipsum' hashtags=[] response_to_id=ObjectId('65e73298e64d1e5d32b785b9')\n",
      "id=ObjectId('65e99fbae64d1e42abd73846') author_id=ObjectId('65e3050de64d1eb2ddb0c678') title='#aici-merge' content='#aici-nu' hashtags=['aici'] response_to_id=ObjectId('65e73674e64d1e5d32b785bd')\n",
      "id=ObjectId('65e99fe3e64d1e42abd73847') author_id=ObjectId('65e3050de64d1eb2ddb0c678') title='@nuexistauserul' content='@nuexistauserul\\n@z\\n#cthuiarcheihatoehutha' hashtags=[] response_to_id=ObjectId('65e73674e64d1e5d32b785bd')\n",
      "id=ObjectId('65e9a053e64d1e42abd73849') author_id=ObjectId('65e3050de64d1eb2ddb0c678') title='#numaiinteleg' content='#merge' hashtags=['numaiinteleg'] response_to_id=ObjectId('65e99fbae64d1e42abd73846')\n",
      "id=ObjectId('65e9a284e64d1e42abd7384a') author_id=ObjectId('65e3050de64d1eb2ddb0c678') title='#inca' content='#odata' hashtags=['inca'] response_to_id=ObjectId('65e99fbae64d1e42abd73846')\n",
      "id=ObjectId('65e9a2bfe64d1ec0702b1449') author_id=ObjectId('65e3050de64d1eb2ddb0c678') title='#a' content='#b' hashtags=['a'] response_to_id=ObjectId('65e73674e64d1e5d32b785bd')\n",
      "id=ObjectId('65e9a2f9e64d1ec0702b144a') author_id=ObjectId('65e3050de64d1eb2ddb0c678') title='ieoau.aoi' content='aoeiao.uaoueoa' hashtags=[] response_to_id=ObjectId('65e73674e64d1e5d32b785bd')\n",
      "id=ObjectId('65e9a362e64d1ec0702b144b') author_id=ObjectId('65e3050de64d1eb2ddb0c678') title='#im' content='#moron\\n@z\\n@imiplacesamananc\\n@a\\n@churcahoetuhtaohietah' hashtags=['im', 'moron'] response_to_id=ObjectId('65e73674e64d1e5d32b785bd')\n",
      "id=ObjectId('65e9ac48e64d1ec0702b144f') author_id=ObjectId('65e3050de64d1eb2ddb0c678') title='Ce imi place locul asta' content='' hashtags=[] response_to_id=None\n",
      "id=ObjectId('65e9ac59e64d1ec0702b1450') author_id=ObjectId('65e3050de64d1eb2ddb0c678') title='Imi place locul asta!' content='#hellohub' hashtags=['hellohub'] response_to_id=ObjectId('65e99fbae64d1e42abd73846')\n",
      "id=ObjectId('65e9ad58e64d1ec0702b1451') author_id=ObjectId('65e3050de64d1eb2ddb0c678') title='#hellohub' content='Este ca le am cu hashtagurile?' hashtags=['hellohub'] response_to_id=None\n",
      "id=ObjectId('65e9ae68e64d1ec0702b1452') author_id=ObjectId('65e6e573e64d1e32dacf9881') title='sup dawg @z' content='#hellohub' hashtags=['hellohub'] response_to_id=None\n",
      "id=ObjectId('65e9af40e64d1ec0702b1454') author_id=ObjectId('65e6e573e64d1e32dacf9881') title='Le ai sef.' content='#traiascainternetul' hashtags=['traiascainternetul'] response_to_id=ObjectId('65e9ad58e64d1ec0702b1451')\n",
      "id=ObjectId('65e9af69e64d1ec0702b1456') author_id=ObjectId('65e6e573e64d1e32dacf9881') title='whats upp g' content='' hashtags=[] response_to_id=ObjectId('65e9ae68e64d1ec0702b1452')\n",
      "id=ObjectId('65e9ef80e64d1e47f4572976') author_id=ObjectId('65e6e573e64d1e32dacf9881') title='frt vreau sa iti emit notificare' content='@z' hashtags=[] response_to_id=None\n",
      "id=ObjectId('65e9ef93e64d1e47f4572978') author_id=ObjectId('65e6e573e64d1e32dacf9881') title='Ia vezi varule, ai fost notificat?' content='' hashtags=[] response_to_id=ObjectId('65e9ac48e64d1ec0702b144f')\n",
      "id=ObjectId('65e9f02ae64d1e47f457297b') author_id=ObjectId('65e6e573e64d1e32dacf9881') title='Inca odata pt notificare' content='' hashtags=[] response_to_id=ObjectId('65e9ac48e64d1ec0702b144f')\n",
      "id=ObjectId('65ea0540e64d1e47f4572986') author_id=ObjectId('65e3050de64d1eb2ddb0c678') title='Titlu' content='Content #hashtag @z' hashtags=['hashtag'] response_to_id=None\n",
      "id=ObjectId('65eca3acf69a9c77e4375d1a') author_id=ObjectId('65e63b39f69a9c0924b1f400') title='Paine boiereasca' content='O paine decenta #longlivetheboiereasca' hashtags=['longlivetheboiereasca'] response_to_id=None\n",
      "id=ObjectId('65eca3c0f69a9c77e4375d1b') author_id=ObjectId('65e63b39f69a9c0924b1f400') title='Paine boiereasca' content='O paine decenta #longlivetheboiereasca' hashtags=['longlivetheboiereasca'] response_to_id=None\n",
      "id=ObjectId('65ecf3e9d831834e9e21a97f') author_id=ObjectId('65e475a5d831837d3a72eac5') title='La lautari' content='Unde mergem sa petrecem\\nCand plecam din cluburi tari?!\\nLa lautari, unde canta lautari\\nhttps://www.versuri.ro/w/8jt2\\nUnde intra spritu bine\\nSi se fac petreceri mari\\nLa lautari, unde canta lautari' hashtags=[] response_to_id=None\n",
      "id=ObjectId('65ecf558d831834e9e21a982') author_id=ObjectId('65e475a5d831837d3a72eac5') title='Nefiu' content='Eu cu Amtilb stăm în spate, patru bagaboante\\nPar puțin fumate, deci sunt sparte, parfumate\\nO împart fiindcă sunt dulce cofetar de\\nStradă mușc din savarină și biscuiți cu lapte\\nEu cu Amtilb stăm în spate, patru bagaboante\\nNe conduc mașina așa șofer n-ai văzut frate\\nLe duc până la cofetărie-n spate\\nIau mini-eclere și le întreb: „parlez-vous français”?' hashtags=[] response_to_id=ObjectId('65ecf3e9d831834e9e21a97f')\n",
      "id=ObjectId('65ecf5a2d831834e9e21a984') author_id=ObjectId('65e475a5d831837d3a72eac5') title='Biliard #LilCagula' content=\"@lilcagula-official\\nStau în pat (Stau în pat)\\nMă gândesc la un cur bombat\\nBucile ca mingi de fotbal, pe ambele le-am jucat\\nAi dat bani să fuți o fată, coaie, ești un retardat\\nFemeie cu pizda poartă, ai dat șut și ai ratat\\nNimănui nu-i pasă că gagică-ta e rac (Aha)\\nAu cardit-o 12 aseară, au completat un zodiac (Aha)\\nȚi-e frică să vină ploaia, aoleu, te-ai speriat (Aha)\\n(Ye) Acu' fi sincer cu noi, de cât timp nu te-ai mai spălat?\" hashtags=['LilCagula'] response_to_id=ObjectId('65ecf558d831834e9e21a982')\n",
      "Liked posts:\n",
      "id=ObjectId('65e3204ce64d1e43b6dd7875') author_id=ObjectId('65e1f82be64d1e71f2a9226b') title='Hello, #hub_page' content='My special thanks to @at0mul @z @abc' hashtags=['hub_page'] response_to_id=None\n",
      "id=ObjectId('65e326d7e64d1eb175d8bd33') author_id=ObjectId('65e3050de64d1eb2ddb0c678') title='fr, really cool' content='' hashtags=[] response_to_id=ObjectId('65e3204ce64d1e43b6dd7875')\n",
      "id=ObjectId('65e32799e64d1ec521b63709') author_id=ObjectId('65e249baf69a9c082c820154') title='hmmm' content='' hashtags=[] response_to_id=ObjectId('65e3204ce64d1e43b6dd7875')\n",
      "id=ObjectId('65e726e8e64d1e32b88e928b') author_id=ObjectId('65e6e573e64d1e32dacf9881') title='Imi place sa mananc aicea' content='Astazi facem review la shaormeria din spatele blocului.\\n\\nNu pot pune in cuvinte ce inseamna aceasta locatie pentru mine. Imi aduc cu drag de inima aminte momentul in care maicuta mea m-a dus sa imi ia primul donner din aceasta locatie.\\n\\nAstazi, privind locatie cu alti ochi, pot spune ca nu impresioneaza in niciun aspect, dar cu siguranta intelege bazele a ceea ce face o shaorma buna. Lucru pe care il vezi tot mai rar la shaormeriile mai pretentioase.\\n\\nVeniti aici si mancati o shaorma peste medie!' hashtags=[] response_to_id=None\n",
      "id=ObjectId('65eca3c0f69a9c77e4375d1b') author_id=ObjectId('65e63b39f69a9c0924b1f400') title='Paine boiereasca' content='O paine decenta #longlivetheboiereasca' hashtags=['longlivetheboiereasca'] response_to_id=None\n",
      "id=ObjectId('65ecf3e9d831834e9e21a97f') author_id=ObjectId('65e475a5d831837d3a72eac5') title='La lautari' content='Unde mergem sa petrecem\\nCand plecam din cluburi tari?!\\nLa lautari, unde canta lautari\\nhttps://www.versuri.ro/w/8jt2\\nUnde intra spritu bine\\nSi se fac petreceri mari\\nLa lautari, unde canta lautari' hashtags=[] response_to_id=None\n",
      "id=ObjectId('65ecf558d831834e9e21a982') author_id=ObjectId('65e475a5d831837d3a72eac5') title='Nefiu' content='Eu cu Amtilb stăm în spate, patru bagaboante\\nPar puțin fumate, deci sunt sparte, parfumate\\nO împart fiindcă sunt dulce cofetar de\\nStradă mușc din savarină și biscuiți cu lapte\\nEu cu Amtilb stăm în spate, patru bagaboante\\nNe conduc mașina așa șofer n-ai văzut frate\\nLe duc până la cofetărie-n spate\\nIau mini-eclere și le întreb: „parlez-vous français”?' hashtags=[] response_to_id=ObjectId('65ecf3e9d831834e9e21a97f')\n",
      "id=ObjectId('65ecf5a2d831834e9e21a984') author_id=ObjectId('65e475a5d831837d3a72eac5') title='Biliard #LilCagula' content=\"@lilcagula-official\\nStau în pat (Stau în pat)\\nMă gândesc la un cur bombat\\nBucile ca mingi de fotbal, pe ambele le-am jucat\\nAi dat bani să fuți o fată, coaie, ești un retardat\\nFemeie cu pizda poartă, ai dat șut și ai ratat\\nNimănui nu-i pasă că gagică-ta e rac (Aha)\\nAu cardit-o 12 aseară, au completat un zodiac (Aha)\\nȚi-e frică să vină ploaia, aoleu, te-ai speriat (Aha)\\n(Ye) Acu' fi sincer cu noi, de cât timp nu te-ai mai spălat?\" hashtags=['LilCagula'] response_to_id=ObjectId('65ecf558d831834e9e21a982')\n",
      "Disliked posts:\n",
      "id=ObjectId('65e776b4e64d1e844a9dd500') author_id=ObjectId('65e3050de64d1eb2ddb0c678') title='WHAT' content='' hashtags=[] response_to_id=None\n",
      "id=ObjectId('65e776fce64d1e844a9dd501') author_id=ObjectId('65e3050de64d1eb2ddb0c678') title='WHAT' content='' hashtags=[] response_to_id=None\n",
      "id=ObjectId('65e7776ee64d1e844a9dd502') author_id=ObjectId('65e3050de64d1eb2ddb0c678') title='WHAT' content='' hashtags=[] response_to_id=None\n",
      "id=ObjectId('65e779a1e64d1e9380cd974d') author_id=ObjectId('65e3050de64d1eb2ddb0c678') title='pe bune' content='' hashtags=[] response_to_id=ObjectId('65e73674e64d1e5d32b785bd')\n",
      "id=ObjectId('65e9a2f9e64d1ec0702b144a') author_id=ObjectId('65e3050de64d1eb2ddb0c678') title='ieoau.aoi' content='aoeiao.uaoueoa' hashtags=[] response_to_id=ObjectId('65e73674e64d1e5d32b785bd')\n",
      "User Data: id=ObjectId('65d25cd3c2ef35ebebb785e6') following_ids=[ObjectId('65eda222e64d1e63721f1b1b'), ObjectId('65db417ff69a9c1ee871447e'), ObjectId('65e475a5d831837d3a72eac5'), ObjectId('65e6e573e64d1e32dacf9881')]\n"
     ]
    }
   ],
   "source": [
    "all_posts = [Post(**post_dict) for post_dict in response_content.get(\"posts\", [])]\n",
    "print(\"All posts:\")\n",
    "for post in all_posts:\n",
    "    print(post)\n",
    "\n",
    "liked_posts = all_posts[:4] + all_posts[-4:]\n",
    "# liked_posts = []\n",
    "print(\"Liked posts:\")\n",
    "for post in liked_posts:\n",
    "    print(post)\n",
    "\n",
    "disliked_posts = all_posts[12:16] + [all_posts[31]]\n",
    "# disliked_posts = all_posts[:4] + all_posts[-4:]\n",
    "# disliked_posts = []\n",
    "print(\"Disliked posts:\")\n",
    "for post in disliked_posts:\n",
    "    print(post)\n",
    "\n",
    "current_user_id = PydanticObjectId(\"65d25cd3c2ef35ebebb785e6\")\n",
    "following_ids = [PydanticObjectId(\"65eda222e64d1e63721f1b1b\"), \n",
    "                      PydanticObjectId(\"65db417ff69a9c1ee871447e\"),\n",
    "                      PydanticObjectId(\"65e475a5d831837d3a72eac5\"),\n",
    "                      PydanticObjectId(\"65e6e573e64d1e32dacf9881\")]\n",
    "# following_ids = []\n",
    "\n",
    "current_user_forum = UserForum(_id=current_user_id, following_ids=following_ids)\n",
    "\n",
    "print(f\"User Data: {current_user_forum}\")"
   ]
  },
  {
   "cell_type": "markdown",
   "metadata": {},
   "source": [
    "##### Compute Product Similarity"
   ]
  },
  {
   "cell_type": "code",
   "execution_count": 121,
   "metadata": {},
   "outputs": [
    {
     "name": "stderr",
     "output_type": "stream",
     "text": [
      "Some weights of BertModel were not initialized from the model checkpoint at Twitter/twhin-bert-base and are newly initialized: ['bert.pooler.dense.bias', 'bert.pooler.dense.weight']\n",
      "You should probably TRAIN this model on a down-stream task to be able to use it for predictions and inference.\n"
     ]
    }
   ],
   "source": [
    "tokenizer = AutoTokenizer.from_pretrained('Twitter/twhin-bert-base')\n",
    "model = AutoModel.from_pretrained('Twitter/twhin-bert-base')\n",
    "\n",
    "def process_post_data(posts):\n",
    "    post_texts = [post.title + \" \" + post.content for post in posts]\n",
    "    inputs = tokenizer(post_texts, return_tensors=\"pt\", padding=True, truncation=True)\n",
    "    return inputs\n",
    "\n",
    "def get_recommendations(posts, liked_posts, disliked_posts, following_ids):\n",
    "    all_post_inputs = process_post_data(posts) if posts else None\n",
    "    liked_post_inputs = process_post_data(liked_posts) if liked_posts else None\n",
    "    disliked_post_inputs = process_post_data(disliked_posts) if disliked_posts else None\n",
    "\n",
    "\n",
    "    with torch.no_grad():\n",
    "        all_outputs = model(**all_post_inputs)\n",
    "        all_embeddings = all_outputs.last_hidden_state[:, 0, :]\n",
    "\n",
    "        if liked_post_inputs:\n",
    "            liked_outputs = model(**liked_post_inputs)\n",
    "            liked_embeddings = liked_outputs.last_hidden_state[:, 0, :]\n",
    "        else:\n",
    "            liked_embeddings = torch.zeros(1, model.config.hidden_size)\n",
    "\n",
    "        if disliked_post_inputs:\n",
    "            disliked_outputs = model(**disliked_post_inputs)\n",
    "            disliked_embeddings = disliked_outputs.last_hidden_state[:, 0, :]\n",
    "        else:\n",
    "            disliked_embeddings = torch.zeros(1, model.config.hidden_size)\n",
    "\n",
    "    similarities_liked = torch.matmul(all_embeddings, liked_embeddings.T)\n",
    "    similarities_disliked = torch.matmul(all_embeddings, disliked_embeddings.T)\n",
    "\n",
    "    recommendation_scores = torch.zeros(len(posts))\n",
    "\n",
    "    for i, post in enumerate(posts):\n",
    "        if post.author_id in following_ids:\n",
    "            recommendation_scores[i] += 50\n",
    "\n",
    "    recommendation_scores += similarities_liked.mean(dim=1) - similarities_disliked.mean(dim=1)\n",
    "\n",
    "    sorted_indices = torch.argsort(recommendation_scores, descending=True)\n",
    "\n",
    "    recommended_posts = [posts[i] for i in sorted_indices]\n",
    "    return recommended_posts"
   ]
  },
  {
   "cell_type": "markdown",
   "metadata": {},
   "source": [
    "##### Test Implementation"
   ]
  },
  {
   "cell_type": "code",
   "execution_count": 122,
   "metadata": {},
   "outputs": [
    {
     "name": "stderr",
     "output_type": "stream",
     "text": [
      "Asking to truncate to max_length but no maximum length is provided and the model has no predefined maximum length. Default to no truncation.\n"
     ]
    },
    {
     "name": "stdout",
     "output_type": "stream",
     "text": [
      "Recommended posts:\n",
      "id=ObjectId('65ecf3e9d831834e9e21a97f') author_id=ObjectId('65e475a5d831837d3a72eac5') title='La lautari' content='Unde mergem sa petrecem\\nCand plecam din cluburi tari?!\\nLa lautari, unde canta lautari\\nhttps://www.versuri.ro/w/8jt2\\nUnde intra spritu bine\\nSi se fac petreceri mari\\nLa lautari, unde canta lautari' hashtags=[] response_to_id=None\n",
      "id=ObjectId('65ecf558d831834e9e21a982') author_id=ObjectId('65e475a5d831837d3a72eac5') title='Nefiu' content='Eu cu Amtilb stăm în spate, patru bagaboante\\nPar puțin fumate, deci sunt sparte, parfumate\\nO împart fiindcă sunt dulce cofetar de\\nStradă mușc din savarină și biscuiți cu lapte\\nEu cu Amtilb stăm în spate, patru bagaboante\\nNe conduc mașina așa șofer n-ai văzut frate\\nLe duc până la cofetărie-n spate\\nIau mini-eclere și le întreb: „parlez-vous français”?' hashtags=[] response_to_id=ObjectId('65ecf3e9d831834e9e21a97f')\n",
      "id=ObjectId('65ecf5a2d831834e9e21a984') author_id=ObjectId('65e475a5d831837d3a72eac5') title='Biliard #LilCagula' content=\"@lilcagula-official\\nStau în pat (Stau în pat)\\nMă gândesc la un cur bombat\\nBucile ca mingi de fotbal, pe ambele le-am jucat\\nAi dat bani să fuți o fată, coaie, ești un retardat\\nFemeie cu pizda poartă, ai dat șut și ai ratat\\nNimănui nu-i pasă că gagică-ta e rac (Aha)\\nAu cardit-o 12 aseară, au completat un zodiac (Aha)\\nȚi-e frică să vină ploaia, aoleu, te-ai speriat (Aha)\\n(Ye) Acu' fi sincer cu noi, de cât timp nu te-ai mai spălat?\" hashtags=['LilCagula'] response_to_id=ObjectId('65ecf558d831834e9e21a982')\n",
      "id=ObjectId('65e726e8e64d1e32b88e928b') author_id=ObjectId('65e6e573e64d1e32dacf9881') title='Imi place sa mananc aicea' content='Astazi facem review la shaormeria din spatele blocului.\\n\\nNu pot pune in cuvinte ce inseamna aceasta locatie pentru mine. Imi aduc cu drag de inima aminte momentul in care maicuta mea m-a dus sa imi ia primul donner din aceasta locatie.\\n\\nAstazi, privind locatie cu alti ochi, pot spune ca nu impresioneaza in niciun aspect, dar cu siguranta intelege bazele a ceea ce face o shaorma buna. Lucru pe care il vezi tot mai rar la shaormeriile mai pretentioase.\\n\\nVeniti aici si mancati o shaorma peste medie!' hashtags=[] response_to_id=None\n",
      "id=ObjectId('65e9af40e64d1ec0702b1454') author_id=ObjectId('65e6e573e64d1e32dacf9881') title='Le ai sef.' content='#traiascainternetul' hashtags=['traiascainternetul'] response_to_id=ObjectId('65e9ad58e64d1ec0702b1451')\n",
      "id=ObjectId('65e99f38e64d1e42abd73845') author_id=ObjectId('65e3050de64d1eb2ddb0c678') title='Ce vorbesti acolo varule' content='@userulastanuexista\\n\\n#loremipsum' hashtags=[] response_to_id=ObjectId('65e73298e64d1e5d32b785b9')\n",
      "id=ObjectId('65e73674e64d1e5d32b785bd') author_id=ObjectId('65e6e573e64d1e32dacf9881') title='Parere #6' content='Ethical enamel pin vinyl fingerstache. Pork belly kogi vinyl mlkshk blue bottle, meggings tattooed subway tile church-key authentic master cleanse letterpress selvage woke crucifix. Typewriter single-origin coffee 3 wolf moon chartreuse tbh, tote bag praxis actually solarpunk narwhal disrupt kickstarter glossier jawn. Tousled franzen green juice fit iPhone lumbersexual four loko knausgaard gentrify edison bulb meditation shaman hexagon yuccie.' hashtags=['6'] response_to_id=None\n",
      "id=ObjectId('65e9ef93e64d1e47f4572978') author_id=ObjectId('65e6e573e64d1e32dacf9881') title='Ia vezi varule, ai fost notificat?' content='' hashtags=[] response_to_id=ObjectId('65e9ac48e64d1ec0702b144f')\n",
      "id=ObjectId('65e7365fe64d1e5d32b785bc') author_id=ObjectId('65e6e573e64d1e32dacf9881') title='Parere #3' content=\"Health goth palo santo JOMO bodega boys praxis small batch. Fashion axe man bun literally poutine food truck knausgaard JOMO disrupt subway tile copper mug brunch cupping. Blue bottle heirloom banh mi health goth. Jianbing XOXO you probably haven't heard of them, truffaut polaroid readymade messenger bag flannel pork belly biodiesel meh unicorn. Pug tofu keytar, banh mi you probably haven't heard of them pok pok franzen biodiesel.\" hashtags=['3'] response_to_id=None\n",
      "id=ObjectId('65e9ef80e64d1e47f4572976') author_id=ObjectId('65e6e573e64d1e32dacf9881') title='frt vreau sa iti emit notificare' content='@z' hashtags=[] response_to_id=None\n",
      "id=ObjectId('65e8ed74e64d1ee318d6ee5b') author_id=ObjectId('65e3050de64d1eb2ddb0c678') title='Fr, mi-a schimbat viata! :smile:' content='' hashtags=[] response_to_id=ObjectId('65e726e8e64d1e32b88e928b')\n",
      "id=ObjectId('65e9ad58e64d1ec0702b1451') author_id=ObjectId('65e3050de64d1eb2ddb0c678') title='#hellohub' content='Este ca le am cu hashtagurile?' hashtags=['hellohub'] response_to_id=None\n",
      "id=ObjectId('65eca3c0f69a9c77e4375d1b') author_id=ObjectId('65e63b39f69a9c0924b1f400') title='Paine boiereasca' content='O paine decenta #longlivetheboiereasca' hashtags=['longlivetheboiereasca'] response_to_id=None\n",
      "id=ObjectId('65eca3acf69a9c77e4375d1a') author_id=ObjectId('65e63b39f69a9c0924b1f400') title='Paine boiereasca' content='O paine decenta #longlivetheboiereasca' hashtags=['longlivetheboiereasca'] response_to_id=None\n",
      "id=ObjectId('65e73646e64d1e5d32b785bb') author_id=ObjectId('65e6e573e64d1e32dacf9881') title='Parere #2' content='Enamel pin bruh gorpcore, squid before they sold out scenester listicle disrupt tofu. Solarpunk leggings XOXO sustainable stumptown. Blog normcore cronut, fashion axe vinyl chia VHS. Celiac fam meditation yes plz, kombucha single-origin coffee next level ethical church-key praxis chicharrones ascot.' hashtags=['2'] response_to_id=None\n",
      "id=ObjectId('65e73298e64d1e5d32b785b9') author_id=ObjectId('65e6e573e64d1e32dacf9881') title='Lorem ipsum' content=\"I'm baby literally mixtape intelligentsia irony, adaptogen pop-up grailed praxis cardigan readymade edison bulb YOLO. Venmo tofu narwhal, keffiyeh prism single-origin coffee echo park cloud bread pop-up. Migas put a bird on it praxis air plant typewriter, hammock narwhal chicharrones gatekeep. Iceland hoodie williamsburg venmo kombucha adaptogen, salvia waistcoat narwhal. Fingerstache typewriter lumbersexual small batch pour-over. Cupping master cleanse chartreuse typewriter.\" hashtags=[] response_to_id=None\n",
      "id=ObjectId('65e7361fe64d1e5d32b785ba') author_id=ObjectId('65e6e573e64d1e32dacf9881') title='Parere #1' content='Before they sold out synth four dollar toast bicycle rights fixie wolf. Brooklyn cupping marfa, kinfolk vaporware readymade meditation poutine. Affogato etsy austin PBR&B. Echo park cornhole la croix chartreuse. Pok pok mixtape venmo mumblecore paleo pinterest, semiotics fixie selfies.' hashtags=['1'] response_to_id=None\n",
      "id=ObjectId('65e77acee64d1e9380cd974f') author_id=ObjectId('65e3050de64d1eb2ddb0c678') title='cum sa n-am dreptate' content='' hashtags=[] response_to_id=ObjectId('65e779a1e64d1e9380cd974d')\n",
      "id=ObjectId('65e77c7de64d1e9380cd9750') author_id=ObjectId('65e3050de64d1eb2ddb0c678') title='Sa construim un lant!' content='/=/=/=/=/=/=/=/=/=/=/=/=/=/=/=/=/=/=/' hashtags=[] response_to_id=ObjectId('65e77acee64d1e9380cd974f')\n",
      "id=ObjectId('65e9ac48e64d1ec0702b144f') author_id=ObjectId('65e3050de64d1eb2ddb0c678') title='Ce imi place locul asta' content='' hashtags=[] response_to_id=None\n",
      "id=ObjectId('65e73245e64d1e5d32b785b8') author_id=ObjectId('65e6e573e64d1e32dacf9881') title='Mie imi place placinta' content='' hashtags=[] response_to_id=None\n",
      "id=ObjectId('65e99fe3e64d1e42abd73847') author_id=ObjectId('65e3050de64d1eb2ddb0c678') title='@nuexistauserul' content='@nuexistauserul\\n@z\\n#cthuiarcheihatoehutha' hashtags=[] response_to_id=ObjectId('65e73674e64d1e5d32b785bd')\n",
      "id=ObjectId('65e9f02ae64d1e47f457297b') author_id=ObjectId('65e6e573e64d1e32dacf9881') title='Inca odata pt notificare' content='' hashtags=[] response_to_id=ObjectId('65e9ac48e64d1ec0702b144f')\n",
      "id=ObjectId('65e9ac59e64d1ec0702b1450') author_id=ObjectId('65e3050de64d1eb2ddb0c678') title='Imi place locul asta!' content='#hellohub' hashtags=['hellohub'] response_to_id=ObjectId('65e99fbae64d1e42abd73846')\n",
      "id=ObjectId('65e8c7a9e64d1e8f8abe3564') author_id=ObjectId('65e3050de64d1eb2ddb0c678') title='Varule ai o parere proasta' content='' hashtags=[] response_to_id=ObjectId('65e7365fe64d1e5d32b785bc')\n",
      "id=ObjectId('65e9ae68e64d1ec0702b1452') author_id=ObjectId('65e6e573e64d1e32dacf9881') title='sup dawg @z' content='#hellohub' hashtags=['hellohub'] response_to_id=None\n",
      "id=ObjectId('65e3204ce64d1e43b6dd7875') author_id=ObjectId('65e1f82be64d1e71f2a9226b') title='Hello, #hub_page' content='My special thanks to @at0mul @z @abc' hashtags=['hub_page'] response_to_id=None\n",
      "id=ObjectId('65e9af69e64d1ec0702b1456') author_id=ObjectId('65e6e573e64d1e32dacf9881') title='whats upp g' content='' hashtags=[] response_to_id=ObjectId('65e9ae68e64d1ec0702b1452')\n",
      "id=ObjectId('65e9a053e64d1e42abd73849') author_id=ObjectId('65e3050de64d1eb2ddb0c678') title='#numaiinteleg' content='#merge' hashtags=['numaiinteleg'] response_to_id=ObjectId('65e99fbae64d1e42abd73846')\n",
      "id=ObjectId('65e77650e64d1e844a9dd4fe') author_id=ObjectId('65e3050de64d1eb2ddb0c678') title='Da frt ai dreptate' content='' hashtags=[] response_to_id=None\n",
      "id=ObjectId('65ea0540e64d1e47f4572986') author_id=ObjectId('65e3050de64d1eb2ddb0c678') title='Titlu' content='Content #hashtag @z' hashtags=['hashtag'] response_to_id=None\n",
      "id=ObjectId('65e99c33e64d1e42abd73843') author_id=ObjectId('65e3050de64d1eb2ddb0c678') title='Si mie #imiplacesamananc @imiplacesamananc' content='' hashtags=['imiplacesamananc'] response_to_id=ObjectId('65e7365fe64d1e5d32b785bc')\n",
      "id=ObjectId('65e9a2bfe64d1ec0702b1449') author_id=ObjectId('65e3050de64d1eb2ddb0c678') title='#a' content='#b' hashtags=['a'] response_to_id=ObjectId('65e73674e64d1e5d32b785bd')\n",
      "id=ObjectId('65e9a362e64d1ec0702b144b') author_id=ObjectId('65e3050de64d1eb2ddb0c678') title='#im' content='#moron\\n@z\\n@imiplacesamananc\\n@a\\n@churcahoetuhtaohietah' hashtags=['im', 'moron'] response_to_id=ObjectId('65e73674e64d1e5d32b785bd')\n",
      "id=ObjectId('65e9a284e64d1e42abd7384a') author_id=ObjectId('65e3050de64d1eb2ddb0c678') title='#inca' content='#odata' hashtags=['inca'] response_to_id=ObjectId('65e99fbae64d1e42abd73846')\n",
      "id=ObjectId('65e7767de64d1e844a9dd4ff') author_id=ObjectId('65e3050de64d1eb2ddb0c678') title='indeed' content='' hashtags=[] response_to_id=None\n",
      "id=ObjectId('65e77a09e64d1e9380cd974e') author_id=ObjectId('65e3050de64d1eb2ddb0c678') title='fr' content='bine zici sef' hashtags=[] response_to_id=ObjectId('65e73674e64d1e5d32b785bd')\n",
      "id=ObjectId('65e99fbae64d1e42abd73846') author_id=ObjectId('65e3050de64d1eb2ddb0c678') title='#aici-merge' content='#aici-nu' hashtags=['aici'] response_to_id=ObjectId('65e73674e64d1e5d32b785bd')\n",
      "id=ObjectId('65e8eda2e64d1ee318d6ee5c') author_id=ObjectId('65e3050de64d1eb2ddb0c678') title='😀' content='' hashtags=[] response_to_id=ObjectId('65e726e8e64d1e32b88e928b')\n",
      "id=ObjectId('65e8c8cce64d1e8f8abe3566') author_id=ObjectId('65e3050de64d1eb2ddb0c678') title='Reply #1' content='' hashtags=['1'] response_to_id=ObjectId('65e77a09e64d1e9380cd974e')\n",
      "id=ObjectId('65e326d7e64d1eb175d8bd33') author_id=ObjectId('65e3050de64d1eb2ddb0c678') title='fr, really cool' content='' hashtags=[] response_to_id=ObjectId('65e3204ce64d1e43b6dd7875')\n",
      "id=ObjectId('65e8c8d7e64d1e8f8abe3567') author_id=ObjectId('65e3050de64d1eb2ddb0c678') title='Reply 2' content='' hashtags=[] response_to_id=ObjectId('65e77a09e64d1e9380cd974e')\n",
      "id=ObjectId('65e9a2f9e64d1ec0702b144a') author_id=ObjectId('65e3050de64d1eb2ddb0c678') title='ieoau.aoi' content='aoeiao.uaoueoa' hashtags=[] response_to_id=ObjectId('65e73674e64d1e5d32b785bd')\n",
      "id=ObjectId('65e7776ee64d1e844a9dd502') author_id=ObjectId('65e3050de64d1eb2ddb0c678') title='WHAT' content='' hashtags=[] response_to_id=None\n",
      "id=ObjectId('65e776fce64d1e844a9dd501') author_id=ObjectId('65e3050de64d1eb2ddb0c678') title='WHAT' content='' hashtags=[] response_to_id=None\n",
      "id=ObjectId('65e776b4e64d1e844a9dd500') author_id=ObjectId('65e3050de64d1eb2ddb0c678') title='WHAT' content='' hashtags=[] response_to_id=None\n",
      "id=ObjectId('65e32799e64d1ec521b63709') author_id=ObjectId('65e249baf69a9c082c820154') title='hmmm' content='' hashtags=[] response_to_id=ObjectId('65e3204ce64d1e43b6dd7875')\n",
      "id=ObjectId('65e779a1e64d1e9380cd974d') author_id=ObjectId('65e3050de64d1eb2ddb0c678') title='pe bune' content='' hashtags=[] response_to_id=ObjectId('65e73674e64d1e5d32b785bd')\n"
     ]
    }
   ],
   "source": [
    "recommended_posts = get_recommendations(all_posts, liked_posts, disliked_posts, current_user_forum.following_ids)\n",
    "print(\"Recommended posts:\")\n",
    "for post in recommended_posts:\n",
    "    print(post)"
   ]
  }
 ],
 "metadata": {
  "kernelspec": {
   "display_name": "Python 3",
   "language": "python",
   "name": "python3"
  },
  "language_info": {
   "codemirror_mode": {
    "name": "ipython",
    "version": 3
   },
   "file_extension": ".py",
   "mimetype": "text/x-python",
   "name": "python",
   "nbconvert_exporter": "python",
   "pygments_lexer": "ipython3",
   "version": "3.10.12"
  }
 },
 "nbformat": 4,
 "nbformat_minor": 2
}
